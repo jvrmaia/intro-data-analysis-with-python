{
 "cells": [
  {
   "cell_type": "code",
   "execution_count": 20,
   "metadata": {},
   "outputs": [],
   "source": [
    "import secrets\n",
    "import pprint\n",
    "from twitter import *"
   ]
  },
  {
   "cell_type": "code",
   "execution_count": 4,
   "metadata": {},
   "outputs": [],
   "source": [
    "auth = OAuth(secrets.ACCESS_TOKEN,\n",
    "             secrets.ACCESS_TOKEN_SECRET,\n",
    "             secrets.CONSUMER_KEY,\n",
    "             secrets.CONSUMER_SECRET)"
   ]
  },
  {
   "cell_type": "code",
   "execution_count": 21,
   "metadata": {},
   "outputs": [
    {
     "name": "stdout",
     "output_type": "stream",
     "text": [
      "{'contributors': None,\n",
      " 'coordinates': None,\n",
      " 'created_at': 'Wed Jun 27 09:16:49 +0000 2018',\n",
      " 'entities': {'hashtags': [],\n",
      "              'symbols': [],\n",
      "              'urls': [{'display_url': 'facebook.com/10000633370412…',\n",
      "                        'expanded_url': 'https://www.facebook.com/100006333704123/posts/2158234777730958/',\n",
      "                        'indices': [0, 23],\n",
      "                        'url': 'https://t.co/4uKftuwqOe'}],\n",
      "              'user_mentions': []},\n",
      " 'favorite_count': 0,\n",
      " 'favorited': False,\n",
      " 'filter_level': 'low',\n",
      " 'geo': None,\n",
      " 'id': 1011901152647147521,\n",
      " 'id_str': '1011901152647147521',\n",
      " 'in_reply_to_screen_name': None,\n",
      " 'in_reply_to_status_id': None,\n",
      " 'in_reply_to_status_id_str': None,\n",
      " 'in_reply_to_user_id': None,\n",
      " 'in_reply_to_user_id_str': None,\n",
      " 'is_quote_status': False,\n",
      " 'lang': 'und',\n",
      " 'place': None,\n",
      " 'possibly_sensitive': False,\n",
      " 'quote_count': 0,\n",
      " 'reply_count': 0,\n",
      " 'retweet_count': 0,\n",
      " 'retweeted': False,\n",
      " 'source': '<a href=\"http://www.facebook.com/twitter\" '\n",
      "           'rel=\"nofollow\">Facebook</a>',\n",
      " 'text': 'https://t.co/4uKftuwqOe',\n",
      " 'timestamp_ms': '1530091009662',\n",
      " 'truncated': False,\n",
      " 'user': {'contributors_enabled': False,\n",
      "          'created_at': 'Mon Aug 26 16:11:06 +0000 2013',\n",
      "          'default_profile': False,\n",
      "          'default_profile_image': False,\n",
      "          'description': 'AHAHA NADA U.U',\n",
      "          'favourites_count': 0,\n",
      "          'follow_request_sent': None,\n",
      "          'followers_count': 2,\n",
      "          'following': None,\n",
      "          'friends_count': 5,\n",
      "          'geo_enabled': True,\n",
      "          'id': 1702281336,\n",
      "          'id_str': '1702281336',\n",
      "          'is_translator': False,\n",
      "          'lang': 'pt',\n",
      "          'listed_count': 0,\n",
      "          'location': 'Rio de janeiro ',\n",
      "          'name': 'Matheus Machado',\n",
      "          'notifications': None,\n",
      "          'profile_background_color': '1A1B1F',\n",
      "          'profile_background_image_url': 'http://abs.twimg.com/images/themes/theme9/bg.gif',\n",
      "          'profile_background_image_url_https': 'https://abs.twimg.com/images/themes/theme9/bg.gif',\n",
      "          'profile_background_tile': True,\n",
      "          'profile_image_url': 'http://pbs.twimg.com/profile_images/378800000364729070/d5706f1e85fbb532c085880fa7394401_normal.jpeg',\n",
      "          'profile_image_url_https': 'https://pbs.twimg.com/profile_images/378800000364729070/d5706f1e85fbb532c085880fa7394401_normal.jpeg',\n",
      "          'profile_link_color': '2FC2EF',\n",
      "          'profile_sidebar_border_color': '000000',\n",
      "          'profile_sidebar_fill_color': '252429',\n",
      "          'profile_text_color': '666666',\n",
      "          'profile_use_background_image': True,\n",
      "          'protected': False,\n",
      "          'screen_name': 'MachadoMts',\n",
      "          'statuses_count': 4499,\n",
      "          'time_zone': None,\n",
      "          'translator_type': 'none',\n",
      "          'url': None,\n",
      "          'utc_offset': None,\n",
      "          'verified': False}}\n"
     ]
    }
   ],
   "source": [
    "twitter_stream = TwitterStream(auth=auth, domain='sitestream.twitter.com')\n",
    "iterator = twitter_stream.statuses.sample()\n",
    "pp = pprint.PrettyPrinter(depth=6)\n",
    "\n",
    "for tweet in iterator:\n",
    "    pp.pprint(tweet)\n",
    "    break"
   ]
  }
 ],
 "metadata": {
  "kernelspec": {
   "display_name": "Python 3",
   "language": "python",
   "name": "python3"
  },
  "language_info": {
   "codemirror_mode": {
    "name": "ipython",
    "version": 3
   },
   "file_extension": ".py",
   "mimetype": "text/x-python",
   "name": "python",
   "nbconvert_exporter": "python",
   "pygments_lexer": "ipython3",
   "version": "3.6.5"
  }
 },
 "nbformat": 4,
 "nbformat_minor": 2
}
