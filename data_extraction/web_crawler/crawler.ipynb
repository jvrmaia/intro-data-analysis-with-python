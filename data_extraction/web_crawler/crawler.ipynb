{
 "cells": [
  {
   "cell_type": "markdown",
   "metadata": {},
   "source": [
    "# [Beer Advocate](https://www.beeradvocate.com/) crawler"
   ]
  },
  {
   "cell_type": "code",
   "execution_count": 1,
   "metadata": {},
   "outputs": [],
   "source": [
    "import pandas as pd\n",
    "import numpy as np\n",
    "from requests_html import HTMLSession"
   ]
  },
  {
   "cell_type": "code",
   "execution_count": 2,
   "metadata": {},
   "outputs": [],
   "source": [
    "# Start HTML session\n",
    "session = HTMLSession()"
   ]
  },
  {
   "cell_type": "code",
   "execution_count": 3,
   "metadata": {},
   "outputs": [],
   "source": [
    "# Beer Advocate pagination url template\n",
    "URL_TEMPLATE = 'https://www.beeradvocate.com/beer/?start=%d'"
   ]
  },
  {
   "cell_type": "code",
   "execution_count": 4,
   "metadata": {},
   "outputs": [],
   "source": [
    "# Beer Advocate data frame# Beer  \n",
    "beer_advocate_df = pd.DataFrame(\n",
    "    columns = ['beer_name', 'beer_rate', 'beer_url'],\n",
    "    dtype   = np.dtype('str', 'float', 'str')\n",
    ")"
   ]
  },
  {
   "cell_type": "code",
   "execution_count": 5,
   "metadata": {},
   "outputs": [],
   "source": [
    "# Check if the page is the last# Check  \n",
    "def is_end(html):\n",
    "    el = html.xpath(\"//div[@class='mainContent']/div[@id='ba-content']/text()[normalize-space()]\")\n",
    "    if len(el) > 0 and el[0].find(\"Invalid\"):\n",
    "        return True\n",
    "    \n",
    "    return False"
   ]
  },
  {
   "cell_type": "code",
   "execution_count": 6,
   "metadata": {},
   "outputs": [],
   "source": [
    "r = session.get('https://www.beeradvocate.com/beer/?start=0')"
   ]
  },
  {
   "cell_type": "code",
   "execution_count": 7,
   "metadata": {},
   "outputs": [],
   "source": [
    "# Fetch all beers# Fetch  \n",
    "page = 0\n",
    "while True:\n",
    "    r = session.get(URL_TEMPLATE % page)\n",
    "    beers_name = r.html.xpath(\"//div[@id='rating_fullview_content_2']/h6/a/text()\")\n",
    "    beers_url = r.html.xpath(\"//div[@id='rating_fullview_content_2']/h6/a/@href\")\n",
    "    beers_rate = r.html.xpath(\"//span[@class='BAscore_norm']/text()\")\n",
    "\n",
    "    fetched_beers = list(zip(beers_name, [r for r in beers_rate if r != ' '], beers_url))\n",
    "    fetched_beers_df = pd.DataFrame({\n",
    "        'beer_name': pd.Series([x[0] for x in fetched_beers]),\n",
    "        'beer_rate': pd.Series([x[1] for x in fetched_beers]),\n",
    "        'beer_url' : pd.Series(['https://www.beeradvocate.com' + x[2] for x in fetched_beers]),\n",
    "    })\n",
    "    \n",
    "    beer_advocate_df = pd.concat([beer_advocate_df, fetched_beers_df])\n",
    "    \n",
    "    # exit pagination\n",
    "    if is_end(r.html):\n",
    "        break\n",
    "        \n",
    "    page += 25"
   ]
  },
  {
   "cell_type": "code",
   "execution_count": 8,
   "metadata": {},
   "outputs": [
    {
     "data": {
      "text/html": [
       "<div>\n",
       "<style scoped>\n",
       "    .dataframe tbody tr th:only-of-type {\n",
       "        vertical-align: middle;\n",
       "    }\n",
       "\n",
       "    .dataframe tbody tr th {\n",
       "        vertical-align: top;\n",
       "    }\n",
       "\n",
       "    .dataframe thead th {\n",
       "        text-align: right;\n",
       "    }\n",
       "</style>\n",
       "<table border=\"1\" class=\"dataframe\">\n",
       "  <thead>\n",
       "    <tr style=\"text-align: right;\">\n",
       "      <th></th>\n",
       "      <th>beer_name</th>\n",
       "      <th>beer_rate</th>\n",
       "      <th>beer_url</th>\n",
       "    </tr>\n",
       "  </thead>\n",
       "  <tbody>\n",
       "    <tr>\n",
       "      <th>0</th>\n",
       "      <td>MILF</td>\n",
       "      <td>4.35</td>\n",
       "      <td>https://www.beeradvocate.com/beer/profile/2488...</td>\n",
       "    </tr>\n",
       "    <tr>\n",
       "      <th>1</th>\n",
       "      <td>Capra Noastră Saison</td>\n",
       "      <td>3.55</td>\n",
       "      <td>https://www.beeradvocate.com/beer/profile/5119...</td>\n",
       "    </tr>\n",
       "    <tr>\n",
       "      <th>2</th>\n",
       "      <td>SR-71</td>\n",
       "      <td>5</td>\n",
       "      <td>https://www.beeradvocate.com/beer/profile/2322...</td>\n",
       "    </tr>\n",
       "    <tr>\n",
       "      <th>3</th>\n",
       "      <td>Chimay Grande Réserve Oak Cognac</td>\n",
       "      <td>3.99</td>\n",
       "      <td>https://www.beeradvocate.com/beer/profile/215/...</td>\n",
       "    </tr>\n",
       "    <tr>\n",
       "      <th>4</th>\n",
       "      <td>Upland / Cascade - Pearpawsterous</td>\n",
       "      <td>2.97</td>\n",
       "      <td>https://www.beeradvocate.com/beer/profile/1170...</td>\n",
       "    </tr>\n",
       "  </tbody>\n",
       "</table>\n",
       "</div>"
      ],
      "text/plain": [
       "                           beer_name beer_rate  \\\n",
       "0                               MILF      4.35   \n",
       "1               Capra Noastră Saison      3.55   \n",
       "2                              SR-71         5   \n",
       "3   Chimay Grande Réserve Oak Cognac      3.99   \n",
       "4  Upland / Cascade - Pearpawsterous      2.97   \n",
       "\n",
       "                                            beer_url  \n",
       "0  https://www.beeradvocate.com/beer/profile/2488...  \n",
       "1  https://www.beeradvocate.com/beer/profile/5119...  \n",
       "2  https://www.beeradvocate.com/beer/profile/2322...  \n",
       "3  https://www.beeradvocate.com/beer/profile/215/...  \n",
       "4  https://www.beeradvocate.com/beer/profile/1170...  "
      ]
     },
     "execution_count": 8,
     "metadata": {},
     "output_type": "execute_result"
    }
   ],
   "source": [
    "# Remove duplicates and get max rate# Remove \n",
    "beer_advocate_df = beer_advocate_df.sort_values('beer_rate', ascending=False).drop_duplicates('beer_name').sort_index().reset_index(drop=True)\n",
    "beer_advocate_df.head()"
   ]
  },
  {
   "cell_type": "code",
   "execution_count": 9,
   "metadata": {},
   "outputs": [
    {
     "data": {
      "text/plain": [
       "(233, 3)"
      ]
     },
     "execution_count": 9,
     "metadata": {},
     "output_type": "execute_result"
    }
   ],
   "source": [
    "# Dataset sieze\n",
    "beer_advocate_df.shape"
   ]
  },
  {
   "cell_type": "code",
   "execution_count": 10,
   "metadata": {},
   "outputs": [],
   "source": [
    "# Write CSV# Write  \n",
    "beer_advocate_df.to_csv('beer_advocate.csv', sep=';')"
   ]
  }
 ],
 "metadata": {
  "kernelspec": {
   "display_name": "Python 3",
   "language": "python",
   "name": "python3"
  },
  "language_info": {
   "codemirror_mode": {
    "name": "ipython",
    "version": 3
   },
   "file_extension": ".py",
   "mimetype": "text/x-python",
   "name": "python",
   "nbconvert_exporter": "python",
   "pygments_lexer": "ipython3",
   "version": "3.6.5"
  }
 },
 "nbformat": 4,
 "nbformat_minor": 2
}
